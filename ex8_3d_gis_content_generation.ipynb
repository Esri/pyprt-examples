{
 "cells": [
  {
   "cell_type": "markdown",
   "metadata": {},
   "source": [
    "Copyright (c) 2012-2022 Esri R&D Center Zurich\n",
    "\n",
    "Licensed under the Apache License, Version 2.0 (the \"License\");\n",
    "you may not use this file except in compliance with the License.\n",
    "You may obtain a copy of the License at\n",
    "\n",
    "  https://www.apache.org/licenses/LICENSE-2.0\n",
    "\n",
    "Unless required by applicable law or agreed to in writing, software\n",
    "distributed under the License is distributed on an \"AS IS\" BASIS,\n",
    "WITHOUT WARRANTIES OR CONDITIONS OF ANY KIND, either express or implied.\n",
    "See the License for the specific language governing permissions and\n",
    "limitations under the License.\n",
    "A copy of the license is available in the repository's LICENSE file."
   ]
  },
  {
   "cell_type": "markdown",
   "metadata": {},
   "source": [
    " # PyPRT - Creation of 3D GIS Content (Parks)\n"
   ]
  },
  {
   "cell_type": "code",
   "execution_count": null,
   "metadata": {},
   "outputs": [],
   "source": [
    "import sys\n",
    "import os\n",
    "import random\n",
    "import string\n",
    "\n",
    "from arcgis.gis import GIS\n",
    "from arcgis.geocoding import geocode\n",
    "\n",
    "import pyprt\n",
    "from pyprt.pyprt_arcgis import arcgis_to_pyprt\n",
    "\n",
    "gis = GIS(username='my_username') # Enter your AGOL username."
   ]
  },
  {
   "cell_type": "code",
   "execution_count": null,
   "metadata": {},
   "outputs": [],
   "source": [
    "pyprt.initialize_prt()\n",
    "\n",
    "if(not pyprt.is_prt_initialized()):\n",
    "    raise Exception(\"PRT is not initialized\")"
   ]
  },
  {
   "cell_type": "markdown",
   "metadata": {},
   "source": [
    "### Story: Zürich Bahnhofstrasse"
   ]
  },
  {
   "cell_type": "code",
   "execution_count": null,
   "metadata": {},
   "outputs": [],
   "source": [
    "existing_id = '65696aefd99445bf86bf682a7f2530c6'\n",
    "existing = gis.content.get(existing_id)"
   ]
  },
  {
   "cell_type": "code",
   "execution_count": null,
   "metadata": {},
   "outputs": [],
   "source": [
    "map0 = gis.map(mode='3D')\n",
    "location = geocode(\"Zurich\")[0]\n",
    "map0.extent = location['extent']\n",
    "map0"
   ]
  },
  {
   "cell_type": "code",
   "execution_count": null,
   "metadata": {},
   "outputs": [],
   "source": [
    "map0.add_layer(existing)"
   ]
  },
  {
   "cell_type": "markdown",
   "metadata": {},
   "source": [
    "### Get parks parcels from ArcGIS Online"
   ]
  },
  {
   "cell_type": "code",
   "execution_count": null,
   "metadata": {},
   "outputs": [],
   "source": [
    "item_id = 'e9ff3ffc7445455d87c55551aafc6e54'\n",
    "item = gis.content.get(item_id)\n",
    "item"
   ]
  },
  {
   "cell_type": "code",
   "execution_count": null,
   "metadata": {
    "scrolled": true
   },
   "outputs": [],
   "source": [
    "map1 = gis.map()\n",
    "map1.extent = item.extent\n",
    "map1.add_layer(item, {'opacity': 0.5})\n",
    "map1"
   ]
  },
  {
   "cell_type": "markdown",
   "metadata": {},
   "source": [
    "#### Region delimiting/ IDs of the parks parcels to redevelop : Zürich old town"
   ]
  },
  {
   "cell_type": "code",
   "execution_count": null,
   "metadata": {},
   "outputs": [],
   "source": [
    "id_list = (192, 510, 797, 1026, 1031, 1247, 1533,\n",
    "           1570, 1594, 2005, 2215, 2469, 2477, 2728)"
   ]
  },
  {
   "cell_type": "code",
   "execution_count": null,
   "metadata": {},
   "outputs": [],
   "source": [
    "filtered_parks_set = item.layers[0].query(\n",
    "    where='shape__id IN ' + str(id_list), return_z=True)\n",
    "filtered_parks_set"
   ]
  },
  {
   "cell_type": "code",
   "execution_count": null,
   "metadata": {},
   "outputs": [],
   "source": [
    "map2 = gis.map()\n",
    "map2.extent = item.extent\n",
    "map2"
   ]
  },
  {
   "cell_type": "code",
   "execution_count": null,
   "metadata": {},
   "outputs": [],
   "source": [
    "map2.add_layer(filtered_parks_set)\n",
    "map2.zoom_to_layer(item=filtered_parks_set)"
   ]
  },
  {
   "cell_type": "markdown",
   "metadata": {},
   "source": [
    "### Get the parcels geometry"
   ]
  },
  {
   "cell_type": "code",
   "execution_count": null,
   "metadata": {},
   "outputs": [],
   "source": [
    "initial_geometries_from_set = arcgis_to_pyprt(filtered_parks_set)"
   ]
  },
  {
   "cell_type": "code",
   "execution_count": null,
   "metadata": {},
   "outputs": [],
   "source": [
    "len(initial_geometries_from_set)"
   ]
  },
  {
   "cell_type": "markdown",
   "metadata": {},
   "source": [
    "### PRT generation"
   ]
  },
  {
   "cell_type": "code",
   "execution_count": null,
   "metadata": {},
   "outputs": [],
   "source": [
    "rpk_id = '2c31f077021b495cbfe4097227fdd78e'\n",
    "rpk = gis.content.get(rpk_id)\n",
    "attrs = {'shapeName': 'Trees','Sidewalk_Height_Match': 1.2}\n",
    "rpk"
   ]
  },
  {
   "cell_type": "code",
   "execution_count": null,
   "metadata": {},
   "outputs": [],
   "source": [
    "export_file_name = 'ex8_PyPRT_GeneratedParks'+ '_' + ''.join(random.choice(string.ascii_lowercase +\n",
    "    string.digits) for x in range(5))\n",
    "enc_optionsSLPK = {\n",
    "    'sceneType': 'Local', \n",
    "    'baseName': export_file_name, \n",
    "    'sceneWkid': '3857', \n",
    "    'layerTextureEncoding': ['2'], \n",
    "    'layerEnabled': [True], \n",
    "    'layerUID': ['1'], \n",
    "    'layerName': ['1'], \n",
    "    'layerTextureQuality': [1.0], \n",
    "    'layerTextureCompression': [9], \n",
    "    'layerTextureScaling': [1.0], \n",
    "    'layerTextureMaxDimension': [2048], \n",
    "    'layerFeatureGranularity': ['0'], \n",
    "    'layerBackfaceCulling': [False], \n",
    "    'outputPath': os.path.join(os.getcwd(), 'ex8_output')}\n",
    "os.makedirs(enc_optionsSLPK['outputPath'], exist_ok=True)"
   ]
  },
  {
   "cell_type": "code",
   "execution_count": null,
   "metadata": {},
   "outputs": [],
   "source": [
    "mod_parcel = pyprt.ModelGenerator(initial_geometries_from_set)\n",
    "generated_parks = mod_parcel.generate_model(\n",
    "    [attrs], rpk.download(), 'com.esri.prt.codecs.I3SEncoder', enc_optionsSLPK)"
   ]
  },
  {
   "cell_type": "markdown",
   "metadata": {},
   "source": [
    "### From Python to ArcGIS"
   ]
  },
  {
   "cell_type": "code",
   "execution_count": null,
   "metadata": {},
   "outputs": [],
   "source": [
    "slpk_filepath = os.path.join(enc_optionsSLPK['outputPath'], export_file_name+'.slpk')"
   ]
  },
  {
   "cell_type": "code",
   "execution_count": null,
   "metadata": {},
   "outputs": [],
   "source": [
    "uploaded_item = gis.content.add({'type': 'Scene Package'}, data=slpk_filepath)"
   ]
  },
  {
   "cell_type": "code",
   "execution_count": null,
   "metadata": {},
   "outputs": [],
   "source": [
    "published_item = uploaded_item.publish()"
   ]
  },
  {
   "cell_type": "code",
   "execution_count": null,
   "metadata": {},
   "outputs": [],
   "source": [
    "display(published_item)"
   ]
  },
  {
   "cell_type": "markdown",
   "metadata": {},
   "source": [
    "### Visualization"
   ]
  },
  {
   "cell_type": "code",
   "execution_count": null,
   "metadata": {},
   "outputs": [],
   "source": [
    "map3 = gis.map(mode='3D')\n",
    "map3.basemap = 'gray' \n",
    "map3.add_layer(published_item)\n",
    "map3.add_layer(existing)\n",
    "map3.zoom_to_layer(item=filtered_parks_set)\n",
    "map3"
   ]
  },
  {
   "cell_type": "code",
   "execution_count": null,
   "metadata": {},
   "outputs": [],
   "source": [
    "pyprt.shutdown_prt()"
   ]
  },
  {
   "cell_type": "code",
   "execution_count": null,
   "metadata": {},
   "outputs": [],
   "source": []
  }
 ],
 "metadata": {
  "esriNotebookRuntime": {
   "notebookRuntimeName": "ArcGIS Notebook Python 3 Advanced",
   "notebookRuntimeVersion": "10.7.1"
  },
  "kernelspec": {
   "display_name": "Python 3",
   "language": "python",
   "name": "python3"
  }
 },
 "nbformat": 4,
 "nbformat_minor": 2
}
