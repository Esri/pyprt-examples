{
 "cells": [
  {
   "cell_type": "markdown",
   "metadata": {},
   "source": [
    " # PyPRT - Creation of 3D GIS Content (Parks)\n"
   ]
  },
  {
   "cell_type": "code",
   "execution_count": 1,
   "metadata": {},
   "outputs": [
    {
     "name": "stdout",
     "output_type": "stream",
     "text": [
      "Enter password: ········\n"
     ]
    }
   ],
   "source": [
    "import sys\n",
    "import os\n",
    "\n",
    "from arcgis.gis import GIS\n",
    "from arcgis.geocoding import geocode\n",
    "from IPython.display import IFrame\n",
    "\n",
    "import pyprt\n",
    "from pyprt.pyprt_arcgis import arcgis_to_pyprt\n",
    "\n",
    "gis = GIS(username='CLechot_zurich')"
   ]
  },
  {
   "cell_type": "code",
   "execution_count": 2,
   "metadata": {},
   "outputs": [
    {
     "name": "stdout",
     "output_type": "stream",
     "text": [
      "[PRT] [2020-02-20 11:54:09] [error] failed to load library: error while loading library 'c:\\users\\cami9495\\documents\\esri-cityengine-sdk-master\\examples\\py4prt\\pyprt\\pyprt\\lib\\com.esri.prt.unreal.dll': The specified module could not be found.\r\n",
      "\n",
      "[PRT] [2020-02-20 11:54:09] [error] failed to load library: error while loading library 'c:\\users\\cami9495\\documents\\esri-cityengine-sdk-master\\examples\\py4prt\\pyprt\\pyprt\\lib\\DatasmithSDK.dll': The specified module could not be found.\r\n",
      "\n"
     ]
    }
   ],
   "source": [
    "pyprt.initialize_prt()\n",
    "\n",
    "if(not pyprt.is_prt_initialized()):\n",
    "    raise Exception(\"PRT is not initialized\")"
   ]
  },
  {
   "cell_type": "markdown",
   "metadata": {},
   "source": [
    "### Story: Zürich Bahnhofstrasse"
   ]
  },
  {
   "cell_type": "code",
   "execution_count": 3,
   "metadata": {},
   "outputs": [],
   "source": [
    "existing_id = '65696aefd99445bf86bf682a7f2530c6'\n",
    "existing = gis.content.get(existing_id)"
   ]
  },
  {
   "cell_type": "code",
   "execution_count": 4,
   "metadata": {},
   "outputs": [
    {
     "data": {
      "application/vnd.jupyter.widget-view+json": {
       "model_id": "7e20960c77bb4a1b9a59fe3cb3dcdb1b",
       "version_major": 2,
       "version_minor": 0
      },
      "text/plain": [
       "MapView(layout=Layout(height='400px', width='100%'), mode='3D')"
      ]
     },
     "metadata": {},
     "output_type": "display_data"
    },
    {
     "data": {
      "text/html": [
       "<div class=\"map-static-img-preview-a037a582-cfd0-4be4-807c-0537b5123a88\"><img src=\"\"></img></div>"
      ],
      "text/plain": [
       "<IPython.core.display.HTML object>"
      ]
     },
     "metadata": {},
     "output_type": "display_data"
    }
   ],
   "source": [
    "map0 = gis.map(mode='3D')\n",
    "location = geocode(\"Zurich\")[0]\n",
    "map0.extent = location['extent']\n",
    "map0"
   ]
  },
  {
   "cell_type": "code",
   "execution_count": 5,
   "metadata": {},
   "outputs": [],
   "source": [
    "map0.add_layer(existing)"
   ]
  },
  {
   "cell_type": "markdown",
   "metadata": {},
   "source": [
    "### Get parks parcels from ArcGIS Online"
   ]
  },
  {
   "cell_type": "code",
   "execution_count": 6,
   "metadata": {},
   "outputs": [
    {
     "data": {
      "text/html": [
       "<div class=\"item_container\" style=\"height: auto; overflow: hidden; border: 1px solid #cfcfcf; border-radius: 2px; background: #f6fafa; line-height: 1.21429em; padding: 10px;\">\n",
       "                    <div class=\"item_left\" style=\"width: 210px; float: left;\">\n",
       "                       <a href='https://zurich.maps.arcgis.com/home/item.html?id=513577e3f69646e49e3f7f8f99f6040f' target='_blank'>\n",
       "                        <img src='data:image/png;base64,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' width='200' height='133' class=\"itemThumbnail\">\n",
       "                       </a>\n",
       "                    </div>\n",
       "\n",
       "                    <div class=\"item_right\"     style=\"float: none; width: auto; overflow: hidden;\">\n",
       "                        <a href='https://zurich.maps.arcgis.com/home/item.html?id=513577e3f69646e49e3f7f8f99f6040f' target='_blank'><b>ZurichParksParcels</b>\n",
       "                        </a>\n",
       "                        <br/>Zurich Parks Parcels<img src='https://zurich.maps.arcgis.com/home/js/jsapi/esri/css/images/item_type_icons/featureshosted16.png' style=\"vertical-align:middle;\">Feature Layer Collection by CLechot_zurich\n",
       "                        <br/>Last Modified: November 26, 2019\n",
       "                        <br/>0 comments, 13 views\n",
       "                    </div>\n",
       "                </div>\n",
       "                "
      ],
      "text/plain": [
       "<Item title:\"ZurichParksParcels\" type:Feature Layer Collection owner:CLechot_zurich>"
      ]
     },
     "execution_count": 6,
     "metadata": {},
     "output_type": "execute_result"
    }
   ],
   "source": [
    "item = gis.content.get('513577e3f69646e49e3f7f8f99f6040f')\n",
    "item"
   ]
  },
  {
   "cell_type": "code",
   "execution_count": 7,
   "metadata": {
    "scrolled": true
   },
   "outputs": [
    {
     "data": {
      "application/vnd.jupyter.widget-view+json": {
       "model_id": "52d62c8440694d37bc04bd20e2a49d60",
       "version_major": 2,
       "version_minor": 0
      },
      "text/plain": [
       "MapView(layout=Layout(height='400px', width='100%'))"
      ]
     },
     "metadata": {},
     "output_type": "display_data"
    },
    {
     "data": {
      "text/html": [
       "<div class=\"map-static-img-preview-19cc4c19-a949-44c7-b98e-83622142a980\"><img src=\"\"></img></div>"
      ],
      "text/plain": [
       "<IPython.core.display.HTML object>"
      ]
     },
     "metadata": {},
     "output_type": "display_data"
    }
   ],
   "source": [
    "map1 = gis.map()\n",
    "map1.extent = item.extent\n",
    "map1.add_layer(item, {'opacity': 0.5})\n",
    "map1"
   ]
  },
  {
   "cell_type": "markdown",
   "metadata": {},
   "source": [
    "#### Region delimiting/ IDs of the parks parcels to redevelop : Zürich old town"
   ]
  },
  {
   "cell_type": "code",
   "execution_count": 8,
   "metadata": {},
   "outputs": [],
   "source": [
    "id_list = (192, 510, 797, 1026, 1031, 1247, 1533,\n",
    "           1570, 1594, 2005, 2215, 2469, 2477, 2728)"
   ]
  },
  {
   "cell_type": "code",
   "execution_count": 9,
   "metadata": {},
   "outputs": [
    {
     "data": {
      "text/plain": [
       "<FeatureSet> 14 features"
      ]
     },
     "execution_count": 9,
     "metadata": {},
     "output_type": "execute_result"
    }
   ],
   "source": [
    "filtered_parks_set = item.layers[0].query(\n",
    "    where='shape__id IN ' + str(id_list), return_z=True)\n",
    "filtered_parks_set"
   ]
  },
  {
   "cell_type": "code",
   "execution_count": 10,
   "metadata": {},
   "outputs": [
    {
     "data": {
      "application/vnd.jupyter.widget-view+json": {
       "model_id": "31c15250a03446a79b68032973127330",
       "version_major": 2,
       "version_minor": 0
      },
      "text/plain": [
       "MapView(layout=Layout(height='400px', width='100%'))"
      ]
     },
     "metadata": {},
     "output_type": "display_data"
    },
    {
     "data": {
      "text/html": [
       "<div class=\"map-static-img-preview-8feaa4b5-98d0-4ecf-b6fa-1c24cba84159\"><img src=\"\"></img></div>"
      ],
      "text/plain": [
       "<IPython.core.display.HTML object>"
      ]
     },
     "metadata": {},
     "output_type": "display_data"
    }
   ],
   "source": [
    "map2 = gis.map()\n",
    "map2.extent = item.extent\n",
    "map2"
   ]
  },
  {
   "cell_type": "code",
   "execution_count": 11,
   "metadata": {},
   "outputs": [],
   "source": [
    "map2.add_layer(filtered_parks_set)\n",
    "map2.zoom_to_layer(item=filtered_parks_set)"
   ]
  },
  {
   "cell_type": "markdown",
   "metadata": {},
   "source": [
    "### Get the parcels geometry"
   ]
  },
  {
   "cell_type": "code",
   "execution_count": 12,
   "metadata": {},
   "outputs": [],
   "source": [
    "initial_geometries_from_set = arcgis_to_pyprt(filtered_parks_set)"
   ]
  },
  {
   "cell_type": "markdown",
   "metadata": {},
   "source": [
    "### PRT generation"
   ]
  },
  {
   "cell_type": "code",
   "execution_count": 14,
   "metadata": {},
   "outputs": [
    {
     "data": {
      "text/html": [
       "<div class=\"item_container\" style=\"height: auto; overflow: hidden; border: 1px solid #cfcfcf; border-radius: 2px; background: #f6fafa; line-height: 1.21429em; padding: 10px;\">\n",
       "                    <div class=\"item_left\" style=\"width: 210px; float: left;\">\n",
       "                       <a href='https://zurich.maps.arcgis.com/home/item.html?id=2c31f077021b495cbfe4097227fdd78e' target='_blank'>\n",
       "                        <img src='data:image/png;base64,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' width='200' height='133' class=\"itemThumbnail\">\n",
       "                       </a>\n",
       "                    </div>\n",
       "\n",
       "                    <div class=\"item_right\"     style=\"float: none; width: auto; overflow: hidden;\">\n",
       "                        <a href='https://zurich.maps.arcgis.com/home/item.html?id=2c31f077021b495cbfe4097227fdd78e' target='_blank'><b>Greenspace Construction_smallversion</b>\n",
       "                        </a>\n",
       "                        <br/><img src='https://zurich.maps.arcgis.com/home/js/jsapi/esri/css/images/item_type_icons/layers16.png' style=\"vertical-align:middle;\">Rule Package by CLechot_zurich\n",
       "                        <br/>Last Modified: November 19, 2019\n",
       "                        <br/>0 comments, 29 views\n",
       "                    </div>\n",
       "                </div>\n",
       "                "
      ],
      "text/plain": [
       "<Item title:\"Greenspace Construction_smallversion\" type:Rule Package owner:CLechot_zurich>"
      ]
     },
     "execution_count": 14,
     "metadata": {},
     "output_type": "execute_result"
    }
   ],
   "source": [
    "rpk = gis.content.get('2c31f077021b495cbfe4097227fdd78e')\n",
    "attrs = {'ruleFile': 'rules/Landscape_Design_Greenspace/Greenspace ConstructionSMALL.cgb',\n",
    "         'startRule': 'Default$GreenSpace', 'shapeName': 'Trees'}\n",
    "rpk"
   ]
  },
  {
   "cell_type": "code",
   "execution_count": 20,
   "metadata": {},
   "outputs": [],
   "source": [
    "export_file_name = 'ex8_pyprt_GeneratedParks'\n",
    "enc_optionsSLPK = {'sceneType': 'Local', 'baseName': export_file_name, 'sceneWkid': '3857', 'layerTextureEncoding': ['2'], 'layerEnabled': [True], 'layerUID': ['1'], 'layerName': ['1'], 'layerTextureQuality': [\n",
    "    1.0], 'layerTextureCompression': [9], 'layerTextureScaling': [1.0], 'layerTextureMaxDimension': [2048], 'layerFeatureGranularity': ['0'], 'layerBackfaceCulling': [False], 'outputPath': os.path.join(os.getcwd(), 'output')}\n",
    "os.makedirs(enc_optionsSLPK['outputPath'], exist_ok=True)"
   ]
  },
  {
   "cell_type": "code",
   "execution_count": 21,
   "metadata": {},
   "outputs": [],
   "source": [
    "mod_parcel = pyprt.ModelGenerator(initial_geometries_from_set)\n",
    "generated_parks = mod_parcel.generate_model(\n",
    "    [attrs], rpk.download(), 'com.esri.prt.codecs.I3SEncoder', enc_optionsSLPK)"
   ]
  },
  {
   "cell_type": "markdown",
   "metadata": {},
   "source": [
    "### From Python to ArcGIS"
   ]
  },
  {
   "cell_type": "code",
   "execution_count": 22,
   "metadata": {},
   "outputs": [],
   "source": [
    "dataset = os.path.join(enc_optionsSLPK['outputPath'], export_file_name+'.slpk')"
   ]
  },
  {
   "cell_type": "code",
   "execution_count": 24,
   "metadata": {},
   "outputs": [],
   "source": [
    "item_to_upload = gis.content.add({'type': 'Scene Package'}, data=dataset)"
   ]
  },
  {
   "cell_type": "code",
   "execution_count": 25,
   "metadata": {},
   "outputs": [],
   "source": [
    "published_item = item_to_upload.publish()"
   ]
  },
  {
   "cell_type": "code",
   "execution_count": 26,
   "metadata": {},
   "outputs": [
    {
     "data": {
      "text/html": [
       "<div class=\"item_container\" style=\"height: auto; overflow: hidden; border: 1px solid #cfcfcf; border-radius: 2px; background: #f6fafa; line-height: 1.21429em; padding: 10px;\">\n",
       "                    <div class=\"item_left\" style=\"width: 210px; float: left;\">\n",
       "                       <a href='https://zurich.maps.arcgis.com/home/item.html?id=e42b11fc0d88418eb68c325d90f0bfd0' target='_blank'>\n",
       "                        <img src='http://static.arcgis.com/images/desktopapp.png' class=\"itemThumbnail\">\n",
       "                       </a>\n",
       "                    </div>\n",
       "\n",
       "                    <div class=\"item_right\"     style=\"float: none; width: auto; overflow: hidden;\">\n",
       "                        <a href='https://zurich.maps.arcgis.com/home/item.html?id=e42b11fc0d88418eb68c325d90f0bfd0' target='_blank'><b>ex8_pyprt_GeneratedParks</b>\n",
       "                        </a>\n",
       "                        <br/><img src='https://zurich.maps.arcgis.com/home/js/jsapi/esri/css/images/item_type_icons/layers16.png' style=\"vertical-align:middle;\">Scene Layer by CLechot_zurich\n",
       "                        <br/>Last Modified: Februar 20, 2020\n",
       "                        <br/>0 comments, 0 views\n",
       "                    </div>\n",
       "                </div>\n",
       "                "
      ],
      "text/plain": [
       "<Item title:\"ex8_pyprt_GeneratedParks\" type:Scene Layer owner:CLechot_zurich>"
      ]
     },
     "metadata": {},
     "output_type": "display_data"
    }
   ],
   "source": [
    "display(published_item)"
   ]
  },
  {
   "cell_type": "markdown",
   "metadata": {},
   "source": [
    "### Visualization"
   ]
  },
  {
   "cell_type": "code",
   "execution_count": 27,
   "metadata": {},
   "outputs": [
    {
     "data": {
      "application/vnd.jupyter.widget-view+json": {
       "model_id": "a6477b797a36462fa1b97697ee7a89cf",
       "version_major": 2,
       "version_minor": 0
      },
      "text/plain": [
       "MapView(layout=Layout(height='400px', width='100%'), mode='3D')"
      ]
     },
     "metadata": {},
     "output_type": "display_data"
    },
    {
     "data": {
      "text/html": [
       "<div class=\"map-static-img-preview-669900b9-11dc-4712-a731-7962e1dfd759\"><img src=\"\"></img></div>"
      ],
      "text/plain": [
       "<IPython.core.display.HTML object>"
      ]
     },
     "metadata": {},
     "output_type": "display_data"
    }
   ],
   "source": [
    "map3 = gis.map(mode='3D')\n",
    "map3.basemap = 'gray' \n",
    "map3.add_layer(published_item)\n",
    "map3.add_layer(existing)\n",
    "map3.extent = published_item.extent\n",
    "map3"
   ]
  },
  {
   "cell_type": "code",
   "execution_count": 28,
   "metadata": {},
   "outputs": [],
   "source": [
    "pyprt.shutdown_prt()"
   ]
  },
  {
   "cell_type": "code",
   "execution_count": null,
   "metadata": {},
   "outputs": [],
   "source": []
  }
 ],
 "metadata": {
  "esriNotebookRuntime": {
   "notebookRuntimeName": "ArcGIS Notebook Python 3 Advanced",
   "notebookRuntimeVersion": "10.7.1"
  },
  "kernelspec": {
   "display_name": "Python 3",
   "language": "python",
   "name": "python3"
  }
 },
 "nbformat": 4,
 "nbformat_minor": 2
}
