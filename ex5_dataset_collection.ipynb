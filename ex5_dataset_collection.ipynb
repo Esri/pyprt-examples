{
 "cells": [
  {
   "cell_type": "markdown",
   "metadata": {},
   "source": [
    "Copyright (c) 2012-2022 Esri R&D Center Zurich\n",
    "\n",
    "Licensed under the Apache License, Version 2.0 (the \"License\");\n",
    "you may not use this file except in compliance with the License.\n",
    "You may obtain a copy of the License at\n",
    "\n",
    "  https://www.apache.org/licenses/LICENSE-2.0\n",
    "\n",
    "Unless required by applicable law or agreed to in writing, software\n",
    "distributed under the License is distributed on an \"AS IS\" BASIS,\n",
    "WITHOUT WARRANTIES OR CONDITIONS OF ANY KIND, either express or implied.\n",
    "See the License for the specific language governing permissions and\n",
    "limitations under the License.\n",
    "A copy of the license is available in the repository's LICENSE file."
   ]
  },
  {
   "cell_type": "markdown",
   "metadata": {},
   "source": [
    " # PyPRT - Dataset Collection"
   ]
  },
  {
   "cell_type": "markdown",
   "metadata": {},
   "source": [
    "This notebook presents a way of collecting data from CGA reports. To do so, we do repeated generations of an initial shape with varying input attributes. Finally, some simple numerical processing is applied on the collected dataset."
   ]
  },
  {
   "cell_type": "code",
   "execution_count": null,
   "metadata": {},
   "outputs": [],
   "source": [
    "import sys\n",
    "import os\n",
    "\n",
    "import pyprt\n",
    "from pyprt.pyprt_utils import visualize_prt_results\n",
    "\n",
    "import pandas as pd"
   ]
  },
  {
   "cell_type": "code",
   "execution_count": null,
   "metadata": {},
   "outputs": [],
   "source": [
    "CS_FOLDER = os.getcwd()\n",
    "\n",
    "def asset_file(filename):\n",
    "    return os.path.join(CS_FOLDER, 'data', filename)"
   ]
  },
  {
   "cell_type": "markdown",
   "metadata": {},
   "source": [
    "#### PRT Initialization"
   ]
  },
  {
   "cell_type": "code",
   "execution_count": null,
   "metadata": {},
   "outputs": [],
   "source": [
    "print(\"\\nInitializing PRT.\")\n",
    "pyprt.initialize_prt()\n",
    "\n",
    "if not pyprt.is_prt_initialized():\n",
    "    raise Exception(\"PRT is not initialized\")"
   ]
  },
  {
   "cell_type": "code",
   "execution_count": null,
   "metadata": {},
   "outputs": [],
   "source": [
    "initial_shape1 = pyprt.InitialShape(\n",
    "    [0, 0, 0,  10, 0, 0,  10, 0, 10,  0, 0, 20])\n",
    "\n",
    "rpk = asset_file(\"extrusion_rule.rpk\")\n",
    "attrs = {}\n",
    "encoder = 'com.esri.pyprt.PyEncoder'\n",
    "\n",
    "mod = pyprt.ModelGenerator([initial_shape1])\n",
    "generated_model = mod.generate_model(\n",
    "    [attrs], rpk, encoder, {})\n",
    "\n",
    "visualize_prt_results(generated_model)"
   ]
  },
  {
   "cell_type": "markdown",
   "metadata": {},
   "source": [
    "#### Gather values from generated models report"
   ]
  },
  {
   "cell_type": "code",
   "execution_count": null,
   "metadata": {},
   "outputs": [],
   "source": [
    "def get_sum_report(model):\n",
    "    sum_rep = {}\n",
    "    all_rep = model.get_report()\n",
    "    for it in all_rep:\n",
    "        if \"_sum\" in it:\n",
    "            sum_rep[it] = all_rep[it]\n",
    "    return sum_rep"
   ]
  },
  {
   "cell_type": "code",
   "execution_count": null,
   "metadata": {},
   "outputs": [],
   "source": [
    "initial_shape2 = pyprt.InitialShape(\n",
    "    [0, 0, 0,  10, 0, 0,  10, 0, 10,  0, 0, 10])\n",
    "initial_shape3 = pyprt.InitialShape(\n",
    "    [0, 0, 0,  10, 0, 0,  10, 0, 10,  0, 0, 30])"
   ]
  },
  {
   "cell_type": "code",
   "execution_count": null,
   "metadata": {},
   "outputs": [],
   "source": [
    "reports = []\n",
    "model_to_generate = pyprt.ModelGenerator(\n",
    "    [initial_shape1, initial_shape2, initial_shape3])\n",
    "\n",
    "for val in range(0, 10):\n",
    "    attrs['minBuildingHeight'] = float(val)\n",
    "    models = model_to_generate.generate_model([attrs], rpk, encoder, {'emitGeometry': False})\n",
    "\n",
    "    for model in models:\n",
    "        if model:\n",
    "            reports.append(get_sum_report(model))"
   ]
  },
  {
   "cell_type": "markdown",
   "metadata": {},
   "source": [
    "#### Transform report in pandas dataframe for future dataset processing"
   ]
  },
  {
   "cell_type": "code",
   "execution_count": null,
   "metadata": {},
   "outputs": [],
   "source": [
    "reports_df = pd.DataFrame(reports)\n",
    "reports_df"
   ]
  },
  {
   "cell_type": "code",
   "execution_count": null,
   "metadata": {},
   "outputs": [],
   "source": [
    "dataset_uniqueRows = reports_df.drop_duplicates()"
   ]
  },
  {
   "cell_type": "code",
   "execution_count": null,
   "metadata": {},
   "outputs": [],
   "source": [
    "dataset_uniqueRows"
   ]
  },
  {
   "cell_type": "markdown",
   "metadata": {},
   "source": [
    "The next steps in a ML/DL application would be to split the dataset into a training and a testing set. Finally, the idea would be to train an algorithm on the training set."
   ]
  },
  {
   "cell_type": "code",
   "execution_count": null,
   "metadata": {},
   "outputs": [],
   "source": [
    "print(\"\\nShutdown PRT.\")\n",
    "pyprt.shutdown_prt()"
   ]
  },
  {
   "cell_type": "code",
   "execution_count": null,
   "metadata": {},
   "outputs": [],
   "source": []
  }
 ],
 "metadata": {
  "file_extension": ".py",
  "kernelspec": {
   "display_name": "Python 3",
   "language": "python",
   "name": "python3"
  },
  "mimetype": "text/x-python",
  "name": "python",
  "npconvert_exporter": "python",
  "pygments_lexer": "ipython3",
  "version": 3
 },
 "nbformat": 4,
 "nbformat_minor": 2
}
